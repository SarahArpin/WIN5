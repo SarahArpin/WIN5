{
 "cells": [
  {
   "cell_type": "markdown",
   "metadata": {
    "collapsed": false
   },
   "source": [
    "This will be programmed for j(Einit) = 1728. The equations would need to be adjusted for other j-invariants.\n",
    "Delta is a negative number, a fundamental discriminant.\n",
    "\n",
    "\n",
    "When $\\Delta$ is odd, it is 1 mod 4 and $(-\\Delta+1)/4$ is equal to the norm of a generator of the maximal order of the number field. For example, $\\mathbb{Q}(\\sqrt{-3})$ has $\\Delta = -3$, and $\\alpha = \\frac{1 + \\sqrt{-3}}{2}$ is a generator of the maximal order, and $N(\\alpha) =1 = (-\\Delta+1)/4$.\n",
    "\n",
    "\n",
    "When $\\Delta$ is even, $|\\Delta|/4$ is equal to the norm of a generator of the maximal order of the number field. For example, $\\mathbb{Q}(i)$ has $\\Delta = -4$, and $\\alpha = i$ is a generator of the maximal order, and $N(\\alpha) = 1$."
   ]
  },
  {
   "cell_type": "code",
   "execution_count": 1,
   "metadata": {
    "collapsed": false
   },
   "outputs": [
   ],
   "source": [
    "def cornacchias_alg(m): #Only works for prime input m\n",
    "    if m == 1:\n",
    "        return 1,0\n",
    "    if not Mod(-1,m).is_square():\n",
    "        return \"Fail\"\n",
    "    r0_values = mod(-1, m).sqrt(extend = False, all = True)\n",
    "    for r0 in r0_values:\n",
    "        if QQ(r0) > QQ(m/2):\n",
    "            r0 = m - r0\n",
    "        r_list = [m,r0]\n",
    "        r_now = r0\n",
    "        while ZZ(r_now)^2 >= ZZ(m):\n",
    "            r_now = ZZ(mod(r_list[0],r_list[1]))\n",
    "            r_list[0] = r_list[1]\n",
    "            r_list[1] = r_now\n",
    "        if (m - r_now^2).is_square():\n",
    "            y_now = ZZ(r_now)\n",
    "            z_now = ZZ(sqrt(m - r_now^2))\n",
    "            return y_now,z_now\n",
    "    return \"Fail\"\n",
    "\n",
    "def ALGORITHM(Delta, p, ell, RMAX):\n",
    "    D_count = 0\n",
    "    AllDs = []\n",
    "    GoodDs = []\n",
    "    D_good = 0\n",
    "    theta_list = [] #Need to keep track of r, D, and theta solution\n",
    "    r = -1\n",
    "    while r < RMAX:\n",
    "        r = r + 1\n",
    "        NegDeltaEll2r = -Delta*ell^(2*r)\n",
    "        x = ((NegDeltaEll2r)^((p + 1)/4)) % p #Assumes p \\equiv 3 \\mod 4\n",
    "        while x < sqrt(NegDeltaEll2r):\n",
    "            D = ZZ((NegDeltaEll2r-x^2)/p)\n",
    "            D_count += 1\n",
    "            AllDs.append(D)\n",
    "            if ZZ(D.mod(4)) == ZZ(1):\n",
    "                if D.is_prime() or ZZ(D) == 1:\n",
    "                    D_good += 1\n",
    "                    GoodDs.append(D)\n",
    "                    Alg_Output = cornacchias_alg(D) #Sol. unique if exists\n",
    "                    if Alg_Output != \"Fail\":\n",
    "                        a,b = Alg_Output\n",
    "                        if mod(a,2) == ZZ(0):\n",
    "                            ev = a\n",
    "                            od = b\n",
    "                        else:\n",
    "                            ev = b\n",
    "                            od = a\n",
    "                        if ZZ(NegDeltaEll2r.mod(2)) == ZZ(1): #y odd, z even\n",
    "                            x = QQ(x)\n",
    "                            y = QQ(od)\n",
    "                            z = QQ(ev)\n",
    "                            theta = [1/2,x/2,y/2,z/2]\n",
    "                        else:\n",
    "                            x = QQ(x)\n",
    "                            y = QQ(ev)\n",
    "                            z = QQ(od)\n",
    "                            theta = [0,x/2,y/2,z/2]\n",
    "                        theta_list.append([r,D,theta])\n",
    "            x = x + p\n",
    "    return D_count,D_good, theta_list"
   ]
  },
  {
   "cell_type": "markdown",
   "metadata": {
    "collapsed": false
   },
   "source": [
    "For Example 6.6, we run the algorithm on input $p = 179, \\Delta = -47, \\ell = 2$. We are finding an orientation on $E_{1728}:y^2 = x^3 - x$.\n",
    "As coded above, we don't stop when we find a single orientation: we repeat the loop for $r$ up to a specified bound. For our input, take $r = 8$."
   ]
  },
  {
   "cell_type": "code",
   "execution_count": 2,
   "metadata": {
    "collapsed": false
   },
   "outputs": [
    {
     "data": {
      "text/plain": [
       "(19,\n",
       " 4,\n",
       " [[1, 1, [0, 3/2, 0, 1/2]],\n",
       "  [7, 3533, [0, 371/2, 29, 13/2]],\n",
       "  [8, 17077, [0, 153/2, 27, 119/2]],\n",
       "  [8, 15749, [0, 511/2, 41, 95/2]]])"
      ]
     },
     "execution_count": 2,
     "metadata": {
     },
     "output_type": "execute_result"
    }
   ],
   "source": [
    "ALGORITHM(-47, 179, 2, 8)"
   ]
  },
  {
   "cell_type": "code",
   "execution_count": 0,
   "metadata": {
    "collapsed": false
   },
   "outputs": [
   ],
   "source": [
   ]
  }
 ],
 "metadata": {
  "kernelspec": {
   "display_name": "SageMath 9.4",
   "language": "sagemath",
   "metadata": {
    "cocalc": {
     "description": "Open-source mathematical software system",
     "priority": 10,
     "url": "https://www.sagemath.org/"
    }
   },
   "name": "sage-9.4",
   "resource_dir": "/ext/jupyter/kernels/sage-9.4"
  },
  "language_info": {
   "codemirror_mode": {
    "name": "ipython",
    "version": 3
   },
   "file_extension": ".py",
   "mimetype": "text/x-python",
   "name": "python",
   "nbconvert_exporter": "python",
   "pygments_lexer": "ipython3",
   "version": "3.9.5"
  }
 },
 "nbformat": 4,
 "nbformat_minor": 4
}
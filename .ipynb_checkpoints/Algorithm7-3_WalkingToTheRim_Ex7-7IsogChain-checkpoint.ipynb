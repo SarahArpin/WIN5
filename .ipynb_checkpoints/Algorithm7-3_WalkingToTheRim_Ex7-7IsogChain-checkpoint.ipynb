{
 "cells": [
  {
   "cell_type": "code",
   "execution_count": 1,
   "metadata": {},
   "outputs": [],
   "source": [
    "load(\"McMurdyCode.sage\")"
   ]
  },
  {
   "cell_type": "markdown",
   "metadata": {},
   "source": [
    "Begin with input: $(E_{1728},\\theta',t',n')$, where here $\\theta'$ is the composition of 2 maps $\\theta'= \\varphi_{171}\\circ \\varphi_{1728}$ we store the isogeny chain as a list $\\theta'=[\\varphi_{1728}, \\varphi_{171}]$, where\n",
    "$\\varphi_{1728}: E_{1728} \\rightarrow E_{171}$  and $\\varphi_{171}: E_{171} \\rightarrow E_{1728}$."
   ]
  },
  {
   "cell_type": "code",
   "execution_count": 2,
   "metadata": {},
   "outputs": [],
   "source": [
    "p =179\n",
    "F.<TT>=GF(p)[]\n",
    "K.<a>=GF(p^2,name='a',modulus=TT^2+1)\n",
    "R.<x>=PolynomialRing(K)\n",
    "E1728=EllipticCurve(K,[-1,0])\n",
    "W1728=x^3-x\n",
    "Thetaprime = [[(x^16 + (156*a + 63)*x^15 + (142*a + 176)*x^14 + (98*a + 70)*x^13 + (129*a + 168)*x^12 + a*x^11 + (105*a + 21)*x^10 + (129*a + 156)*x^9 + (48*a + 103)*x^8 + (8*a + 26)*x^7 + (141*a + 85)*x^6 + (129*a + 107)*x^5 + (71*a + 111)*x^4 + (18*a + 3)*x^3 + (32*a + 97)*x^2 + (6*a + 117)*x + 56*a + 36)/(x^15 + (156*a + 63)*x^14 + (166*a + 21)*x^13 + (19*a + 2)*x^12 + (171*a + 120)*x^11 + (47*a + 149)*x^10 + (35*a + 116)*x^9 + (165*a + 178)*x^8 + (80*a + 127)*x^7 + (135*a + 36)*x^6 + (96*a + 124)*x^5 + (19*a + 174)*x^4 + 31*a*x^3 + (13*a + 2)*x^2 + (164*a + 166)*x + 10*a + 71),\n",
    " (178*x^23 + (124*a + 84)*x^22 + (115*a + 17)*x^21 + (31*a + 98)*x^20 + (70*a + 166)*x^19 + (13*a + 159)*x^18 + (153*a + 90)*x^17 + (62*a + 42)*x^16 + (50*a + 7)*x^15 + (148*a + 157)*x^14 + (177*a + 45)*x^13 + (34*a + 106)*x^12 + (14*a + 21)*x^11 + (168*a + 176)*x^10 + (62*a + 159)*x^9 + (53*a + 170)*x^8 + (59*a + 68)*x^7 + (27*a + 73)*x^6 + (103*a + 104)*x^5 + (119*a + 98)*x^4 + (62*a + 125)*x^3 + (110*a + 45)*x^2 + (174*a + 146)*x + 74*a + 97)/(x^23 + (55*a + 95)*x^22 + (40*a + 138)*x^21 + (58*a + 163)*x^20 + (11*a + 58)*x^19 + (4*a + 164)*x^18 + (93*a + 119)*x^17 + (39*a + 67)*x^16 + (111*a + 6)*x^15 + (158*a + 89)*x^14 + (102*a + 59)*x^13 + (52*a + 55)*x^12 + (137*a + 164)*x^11 + (165*a + 31)*x^10 + (109*a + 114)*x^9 + (177*a + 50)*x^8 + (129*a + 81)*x^7 + (2*a + 23)*x^6 + (56*a + 45)*x^5 + (7*a + 22)*x^4 + (141*a + 127)*x^3 + (163*a + 56)*x^2 + (156*a + 169)*x + 26*a + 87)], [((31*a + 177)*x^3 + 10*a*x^2 + (84*a + 144)*x + 45*a + 90)/(x^2 + (102*a + 30)*x + 98*a + 130),\n",
    " ((55*a + 141)*x^3 + (62*a + 78)*x^2 + (72*a + 71)*x + 95*a + 131)/(x^3 + (153*a + 45)*x^2 + (115*a + 32)*x + 45*a + 174)]]\n",
    "varphi1728=Thetaprime[0];\n",
    "varphi171=Thetaprime[1];\n",
    "tprime=2;\n",
    "nprime=48;\n",
    "ell=2;\n",
    "E171=EllipticCurve([0,0,0,120*a + 119,66*a + 112]) \n",
    "W171=x^3 + (120*a + 119)*x + 66*a + 112"
   ]
  },
  {
   "cell_type": "markdown",
   "metadata": {},
   "source": [
    "**Steps 1-2:** Initialize an empty list and find $k$:"
   ]
  },
  {
   "cell_type": "code",
   "execution_count": 3,
   "metadata": {},
   "outputs": [
    {
     "data": {
      "text/plain": [
       "1"
      ]
     },
     "execution_count": 3,
     "metadata": {},
     "output_type": "execute_result"
    }
   ],
   "source": [
    "H = []\n",
    "v2 = ZZ.valuation(2)\n",
    "k = floor(v2(tprime^2 - 4*nprime)/2)\n",
    "k"
   ]
  },
  {
   "cell_type": "markdown",
   "metadata": {},
   "source": [
    "**Step 3:** Check the condition of the **If** statement:"
   ]
  },
  {
   "cell_type": "code",
   "execution_count": 4,
   "metadata": {},
   "outputs": [
    {
     "data": {
      "text/plain": [
       "1"
      ]
     },
     "execution_count": 4,
     "metadata": {},
     "output_type": "execute_result"
    }
   ],
   "source": [
    "ZZ((tprime^2 - 4*nprime)/2^(2*k)).mod(4)"
   ]
  },
  {
   "cell_type": "markdown",
   "metadata": {},
   "source": [
    "Since the **If** condition is not satisfied, we continue to the **For** loop with $k = 1$.\n",
    "\n",
    "**Step 5:** The for loop will run once."
   ]
  },
  {
   "cell_type": "markdown",
   "metadata": {},
   "source": [
    "**Step 6:** Compute $E_{1728}[2]$:"
   ]
  },
  {
   "cell_type": "code",
   "execution_count": 5,
   "metadata": {},
   "outputs": [
    {
     "data": {
      "text/plain": [
       "[(0 : 0 : 1), (178 : 0 : 1), (1 : 0 : 1)]"
      ]
     },
     "execution_count": 5,
     "metadata": {},
     "output_type": "execute_result"
    }
   ],
   "source": [
    "E1728_2TorXs = E1728.division_polynomial(2).roots(multiplicities = False)\n",
    "E1728_2TorPts = [E1728.lift_x(x_val) for x_val in E1728_2TorXs]\n",
    "E1728_2TorPts"
   ]
  },
  {
   "cell_type": "markdown",
   "metadata": {},
   "source": [
    "**Step 7:** Find a $2$-suitable translate of the endomophism."
   ]
  },
  {
   "cell_type": "code",
   "execution_count": 6,
   "metadata": {},
   "outputs": [
    {
     "name": "stdout",
     "output_type": "stream",
     "text": [
      "-1 * 2^2 * 47\n",
      "1\n",
      "0\n"
     ]
    }
   ],
   "source": [
    "Delta = tprime^2 - 4*nprime\n",
    "print(factor(Delta))\n",
    "Delta_red = -47\n",
    "print(Delta_red.mod(4))\n",
    "tprime_prime = 2\n",
    "print(-(tprime - tprime_prime)/2)"
   ]
  },
  {
   "cell_type": "markdown",
   "metadata": {},
   "source": [
    "This traced endomorphism is already $2$-suitable."
   ]
  },
  {
   "cell_type": "markdown",
   "metadata": {},
   "source": [
    "**Step 8:** Compute a generator for $E_{1728}[2]\\cap \\ker(\\theta')$"
   ]
  },
  {
   "cell_type": "code",
   "execution_count": 7,
   "metadata": {},
   "outputs": [
    {
     "name": "stdout",
     "output_type": "stream",
     "text": [
      "(0 : 0 : 1)\n",
      "104*a + 145\n",
      "\n",
      "(178 : 0 : 1)\n",
      "0\n",
      "\n",
      "(1 : 0 : 1)\n",
      "104*a + 145\n",
      "\n"
     ]
    }
   ],
   "source": [
    "for pt in E1728_2TorXs:\n",
    "    print(E1728.lift_x(pt))\n",
    "    image1_num = varphi1728[0].numerator()(x = pt)\n",
    "    image1_den = varphi1728[0].denominator()(x = pt)\n",
    "    if image1_den == 0:\n",
    "        print(\"0\")\n",
    "    else:\n",
    "        print(varphi171[0].denominator()(x = image1_num/image1_den))\n",
    "    print(\"\")"
   ]
  },
  {
   "cell_type": "markdown",
   "metadata": {},
   "source": [
    "**Step 9:** Compute the isogeny $\\varphi_{1728}'$ with kernel determined in the previous step."
   ]
  },
  {
   "cell_type": "code",
   "execution_count": 8,
   "metadata": {},
   "outputs": [
    {
     "name": "stdout",
     "output_type": "stream",
     "text": [
      "Elliptic Curve defined by y^2 = x^3 + 178*x over Finite Field in a of size 179^2\n",
      "Elliptic Curve defined by y^2 = x^3 + 178*x over Finite Field in a of size 179^2\n",
      "22\n"
     ]
    }
   ],
   "source": [
    "varphi1728prime = EllipticCurveIsogeny(E1728,E1728.lift_x(178))\n",
    "varphi1728primehat = varphi1728prime.dual()\n",
    "print(varphi1728primehat.codomain())\n",
    "print(E1728)\n",
    "print(varphi1728prime.codomain().j_invariant())"
   ]
  },
  {
   "cell_type": "code",
   "execution_count": 9,
   "metadata": {},
   "outputs": [],
   "source": [
    "E22 = varphi1728prime.codomain()\n",
    "W22 = x^3 + 168*x + 14"
   ]
  },
  {
   "cell_type": "code",
   "execution_count": 10,
   "metadata": {},
   "outputs": [],
   "source": [
    "varphi1728prime_m = [(x^2 + x + 2)/(x + 1), (x^2 + 2*x - 1)/(x^2 + 2*x + 1)]\n",
    "varphi1728primehat_m = [(45*x^2 + 89*x + 45)/(x - 2), (-67*x^2 + 89*x - 22)/(x^2 - 4*x + 4)]"
   ]
  },
  {
   "cell_type": "markdown",
   "metadata": {},
   "source": [
    "**Step 10:** Replace our traced endomorphism with $(E_{22},\\varphi_{1728}'\\circ\\varphi_{171}\\circ\\varphi_{1728}\\circ\\hat{\\varphi'}_{1728},2tprime,4nprime)$. Rename this $(E_{22}, \\theta'',t'',n'')$"
   ]
  },
  {
   "cell_type": "code",
   "execution_count": 11,
   "metadata": {},
   "outputs": [],
   "source": [
    "Thetaprimeprime = [varphi1728primehat_m,varphi1728,varphi171,varphi1728prime_m]\n",
    "tprimeprime = 2*tprime\n",
    "nprimeprime = 4*nprime"
   ]
  },
  {
   "cell_type": "markdown",
   "metadata": {},
   "source": [
    "**Step 11:** We need to divide by $[2]$ twice, so we implement Algorithm 5.2, since we are working with an isogeny chain. We use Algorithm 5.1 to refactor the isogeny chain. Note that our isogeny chain is the Waterhouse twist of a factored isogeny chain, so we only need to switch the order of $\\varphi_{1728}'$ and $\\varphi_{171}$ in this chain. We adapt Algorithm 5.1 accordingly."
   ]
  },
  {
   "cell_type": "code",
   "execution_count": 12,
   "metadata": {},
   "outputs": [
    {
     "name": "stdout",
     "output_type": "stream",
     "text": [
      "Elliptic Curve defined by y^2 = x^3 + (120*a+119)*x + (66*a+112) over Finite Field in a of size 179^2\n",
      "6\n"
     ]
    }
   ],
   "source": [
    "HH = []\n",
    "print(E171)\n",
    "print((varphi1728prime_m[0].denominator().degree()+1)*(varphi171[0].denominator().degree() + 1))"
   ]
  },
  {
   "cell_type": "code",
   "execution_count": 13,
   "metadata": {},
   "outputs": [
    {
     "name": "stdout",
     "output_type": "stream",
     "text": [
      "(29*a + 50 : 0 : 1)\n",
      "\n"
     ]
    }
   ],
   "source": [
    "E171_2TorXs = E171.division_polynomial(2).roots(multiplicities = False)\n",
    "for x_val in E171_2TorXs:\n",
    "    image1_num = varphi171[0].numerator()(x = x_val)\n",
    "    image1_den = varphi171[0].denominator()(x = x_val)\n",
    "    image2_den = varphi1728prime_m[0].denominator()(x = image1_num/image1_den)\n",
    "    if image2_den == 0:\n",
    "        print(E171.lift_x(x_val))\n",
    "        print(\"\")"
   ]
  },
  {
   "cell_type": "code",
   "execution_count": 14,
   "metadata": {},
   "outputs": [
    {
     "data": {
      "text/plain": [
       "((x^2 + (-29*a - 50)*x + (49*a + 84))/(x + (-29*a - 50)),\n",
       " (x^2*y + (-58*a + 79)*x*y + (-13*a - 36)*y)/(x^2 + (-58*a + 79)*x + (36*a + 48)))"
      ]
     },
     "execution_count": 14,
     "metadata": {},
     "output_type": "execute_result"
    }
   ],
   "source": [
    "varphi171_prime = EllipticCurveIsogeny(E171,E171.lift_x(29*a + 50))\n",
    "varphi171_prime.rational_maps()"
   ]
  },
  {
   "cell_type": "code",
   "execution_count": 15,
   "metadata": {},
   "outputs": [],
   "source": [
    "varphi171_prime_m = [(x^2 + (-29*a - 50)*x + (49*a + 84))/(x + (-29*a - 50)),\n",
    " (x^2 + (-58*a + 79)*x + (-13*a - 36))/(x^2 + (-58*a + 79)*x + (36*a + 48))]\n",
    "HH.append(varphi171_prime_m)"
   ]
  },
  {
   "cell_type": "markdown",
   "metadata": {},
   "source": [
    "Our first isogeny in this refactored form is $\\varphi_{171}': E_{171}\\to E_{174a+109}$."
   ]
  },
  {
   "cell_type": "code",
   "execution_count": 16,
   "metadata": {},
   "outputs": [
    {
     "data": {
      "text/plain": [
       "Elliptic Curve defined by y^2 = x^3 + (54*a+57)*x + (53*a+170) over Finite Field in a of size 179^2"
      ]
     },
     "execution_count": 16,
     "metadata": {},
     "output_type": "execute_result"
    }
   ],
   "source": [
    "varphi171_prime.codomain().j_invariant()\n",
    "E174aplus109 = varphi171_prime.codomain()\n",
    "E174aplus109"
   ]
  },
  {
   "cell_type": "code",
   "execution_count": 17,
   "metadata": {},
   "outputs": [
    {
     "name": "stdout",
     "output_type": "stream",
     "text": [
      "(128*a + 164 : 28*a + 90 : 1)\n",
      "\n"
     ]
    }
   ],
   "source": [
    "E171_3TorXs = E171.division_polynomial(3).roots(multiplicities = False)\n",
    "for x_val in E171_3TorXs:\n",
    "    image1_num = varphi171[0].numerator()(x = x_val)\n",
    "    image1_den = varphi171[0].denominator()(x = x_val)\n",
    "    if image1_den == 0:\n",
    "        print(E171.lift_x(x_val))\n",
    "        print(\"\")\n",
    "    else:\n",
    "        image2_den = varphi1728prime_m[0].denominator()(x = image1_num/image1_den)\n",
    "        if image2_den == 0:\n",
    "            print(E171.lift_x(x_val))\n",
    "            print(\"\")"
   ]
  },
  {
   "cell_type": "code",
   "execution_count": 19,
   "metadata": {},
   "outputs": [],
   "source": [
    "varphi174aplus109 = EllipticCurveIsogeny(E174aplus109, varphi171_prime(E171.lift_x(128*a+164)))\n",
    "varphi174aplus109 = varphi174aplus109.codomain().isomorphism_to(E22)*varphi174aplus109"
   ]
  },
  {
   "cell_type": "code",
   "execution_count": 20,
   "metadata": {},
   "outputs": [
    {
     "data": {
      "text/plain": [
       "True"
      ]
     },
     "execution_count": 20,
     "metadata": {},
     "output_type": "execute_result"
    }
   ],
   "source": [
    "varphi174aplus109.codomain() == E22"
   ]
  },
  {
   "cell_type": "code",
   "execution_count": 21,
   "metadata": {},
   "outputs": [],
   "source": [
    "varphi174aplus109_m = [((31*a - 2)*x^3 + (21*a + 47)*x^2 + (77*a - 85)*x + (60*a - 85))/(x^2 + (-70*a + 77)*x + (-10*a - 56)),\n",
    " ((55*a - 38)*x^3 + (50*a - 46)*x^2 + (27*a - 89)*x + (27*a - 51))/(x^3 + (74*a + 26)*x^2 + (-30*a + 11)*x + (-36*a))]"
   ]
  },
  {
   "cell_type": "code",
   "execution_count": 22,
   "metadata": {},
   "outputs": [],
   "source": [
    "HH.append(varphi174aplus109_m)"
   ]
  },
  {
   "cell_type": "markdown",
   "metadata": {},
   "source": [
    "Our second isogeny is $\\varphi_{174a+109}:E_{174a+109}\\to E_{22}$. We have refactored and we now have $\\varphi_{174a+109}\\circ\\varphi_{171}'$ to replace $\\varphi_{1728}'\\circ\\varphi_{171}$. $\\varphi_{174a+109}$ is degree 3 and $\\varphi_{171}'$ is degree 2."
   ]
  },
  {
   "cell_type": "code",
   "execution_count": 23,
   "metadata": {},
   "outputs": [
    {
     "data": {
      "text/plain": [
       "[[(x^2 + (150*a + 129)*x + 49*a + 84)/(x + 150*a + 129),\n",
       "  (x^2 + (121*a + 79)*x + 166*a + 143)/(x^2 + (121*a + 79)*x + 36*a + 48)],\n",
       " [((31*a + 177)*x^3 + (21*a + 47)*x^2 + (77*a + 94)*x + 60*a + 94)/(x^2 + (109*a + 77)*x + 169*a + 123),\n",
       "  ((55*a + 141)*x^3 + (50*a + 133)*x^2 + (27*a + 90)*x + 27*a + 128)/(x^3 + (74*a + 26)*x^2 + (149*a + 11)*x + 143*a)]]"
      ]
     },
     "execution_count": 23,
     "metadata": {},
     "output_type": "execute_result"
    }
   ],
   "source": [
    "HH"
   ]
  },
  {
   "cell_type": "markdown",
   "metadata": {},
   "source": [
    "So our new isogeny chain endomorphism is given: $\\varphi_{174a+109}\\circ\\varphi_{171}'\\circ\\varphi_{1728}\\circ\\hat{\\varphi'}_{1728}$, where $\\varphi_{174a+109}$ is degree 3 and $\\varphi_{171}\\circ\\phi_{1728}\\circ\\hat{\\nu}$ is degree $2^6$. Compute a rational map for $\\varphi_{171}'\\circ\\varphi_{1728}\\circ\\hat{\\varphi'}_{1728}$ that we can divide by $[2]$ twice, proceeding with Algorithm 5.2. Let $\\varphi_{22,temp}:= \\varphi_{171}'\\circ\\varphi_{1728}\\circ\\hat{\\varphi'}_{1728}$."
   ]
  },
  {
   "cell_type": "code",
   "execution_count": 24,
   "metadata": {},
   "outputs": [],
   "source": [
    "varphi22temp = IsoCompose(varphi1728primehat_m,IsoCompose(varphi1728,varphi171_prime_m))"
   ]
  },
  {
   "cell_type": "code",
   "execution_count": 25,
   "metadata": {},
   "outputs": [],
   "source": [
    "varphi22temp_divby4 = DivideBy2(DivideBy2(varphi22temp,W22), W22)"
   ]
  },
  {
   "cell_type": "code",
   "execution_count": 26,
   "metadata": {
    "scrolled": true
   },
   "outputs": [
    {
     "data": {
      "text/plain": [
       "[(4*x^4 + (160*a + 50)*x^3 + (85*a + 40)*x^2 + (93*a + 100)*x + 100*a + 61)/(x^3 + (78*a + 117)*x^2 + (169*a + 80)*x + 135*a + 43),\n",
       " (171*x^216 + (89*a + 84)*x^215 + (75*a + 88)*x^214 + (162*a + 83)*x^213 + (168*a + 67)*x^212 + (95*a + 142)*x^211 + (144*a + 51)*x^210 + (157*a + 53)*x^209 + (94*a + 159)*x^208 + (156*a + 139)*x^207 + (68*a + 34)*x^206 + (137*a + 175)*x^205 + (104*a + 81)*x^204 + (134*a + 104)*x^203 + (41*a + 106)*x^202 + (176*a + 171)*x^201 + (26*a + 9)*x^200 + (69*a + 92)*x^199 + (108*a + 160)*x^198 + (22*a + 96)*x^197 + (27*a + 107)*x^196 + (28*a + 145)*x^195 + (32*a + 146)*x^194 + (79*a + 165)*x^193 + (69*a + 45)*x^192 + (102*a + 37)*x^191 + (15*a + 87)*x^190 + (92*a + 30)*x^189 + (20*a + 50)*x^188 + (73*a + 90)*x^187 + (133*a + 43)*x^186 + (177*a + 151)*x^185 + (39*a + 113)*x^184 + (84*a + 131)*x^183 + (27*a + 54)*x^182 + (35*a + 176)*x^181 + (95*a + 178)*x^180 + (105*a + 39)*x^179 + (2*a + 71)*x^178 + (125*a + 162)*x^177 + (122*a + 73)*x^176 + (50*a + 171)*x^175 + (100*a + 1)*x^174 + (61*a + 120)*x^173 + (77*a + 51)*x^172 + (134*a + 147)*x^171 + (88*a + 59)*x^170 + (125*a + 85)*x^169 + (111*a + 123)*x^168 + (100*a + 118)*x^167 + (55*a + 50)*x^166 + (133*a + 63)*x^165 + (160*a + 31)*x^164 + (113*a + 119)*x^163 + (5*a + 164)*x^162 + (30*a + 63)*x^161 + (79*a + 29)*x^160 + (12*a + 92)*x^159 + (39*a + 42)*x^158 + (29*a + 124)*x^157 + (55*a + 156)*x^156 + (15*a + 147)*x^155 + (6*a + 50)*x^154 + (55*a + 68)*x^153 + (116*a + 44)*x^152 + (166*a + 160)*x^151 + (53*a + 61)*x^150 + (22*a + 88)*x^149 + (164*a + 140)*x^148 + (81*a + 46)*x^147 + (27*a + 74)*x^146 + (63*a + 167)*x^145 + (164*a + 97)*x^144 + (149*a + 113)*x^143 + (41*a + 102)*x^142 + (62*a + 31)*x^141 + (88*a + 81)*x^140 + (92*a + 152)*x^139 + (117*a + 43)*x^138 + (114*a + 84)*x^137 + (11*a + 6)*x^136 + (43*a + 37)*x^135 + (49*a + 98)*x^134 + (178*a + 131)*x^133 + (36*a + 94)*x^132 + (31*a + 19)*x^131 + (86*a + 79)*x^130 + (22*a + 107)*x^129 + (64*a + 35)*x^128 + (67*a + 34)*x^127 + (139*a + 140)*x^126 + (77*a + 66)*x^125 + (22*a + 148)*x^124 + (143*a + 63)*x^123 + (127*a + 31)*x^122 + (24*a + 89)*x^121 + (143*a + 150)*x^120 + (149*a + 53)*x^119 + (162*a + 175)*x^118 + (138*a + 88)*x^117 + (104*a + 9)*x^116 + (150*a + 148)*x^115 + (98*a + 144)*x^114 + (23*a + 54)*x^113 + (154*a + 18)*x^112 + (53*a + 119)*x^111 + (104*a + 114)*x^110 + (3*a + 45)*x^109 + (14*a + 46)*x^108 + (a + 133)*x^107 + (126*a + 146)*x^106 + (93*a + 86)*x^105 + (154*a + 163)*x^104 + (104*a + 146)*x^103 + (3*a + 163)*x^102 + (30*a + 129)*x^101 + (54*a + 104)*x^100 + (127*a + 13)*x^99 + (123*a + 95)*x^98 + (160*a + 55)*x^97 + (163*a + 7)*x^96 + (138*a + 124)*x^95 + (168*a + 134)*x^94 + (32*a + 7)*x^93 + (126*a + 126)*x^92 + 171*a*x^91 + (134*a + 161)*x^90 + (102*a + 11)*x^89 + (79*a + 30)*x^88 + (26*a + 138)*x^87 + (35*a + 93)*x^86 + (139*a + 66)*x^85 + (19*a + 78)*x^84 + (54*a + 29)*x^83 + (118*a + 99)*x^82 + (102*a + 63)*x^81 + (21*a + 3)*x^80 + (36*a + 95)*x^79 + (99*a + 97)*x^78 + (91*a + 80)*x^77 + (68*a + 10)*x^76 + (118*a + 28)*x^75 + (32*a + 104)*x^74 + (140*a + 79)*x^73 + (19*a + 19)*x^72 + (172*a + 78)*x^71 + (64*a + 93)*x^70 + (56*a + 178)*x^69 + (128*a + 159)*x^68 + (120*a + 118)*x^67 + (29*a + 29)*x^66 + (28*a + 82)*x^65 + (133*a + 119)*x^64 + (74*a + 176)*x^63 + (157*a + 19)*x^62 + (68*a + 143)*x^61 + (34*a + 145)*x^60 + (112*a + 31)*x^59 + (104*a + 19)*x^58 + (166*a + 139)*x^57 + (173*a + 21)*x^56 + (169*a + 37)*x^55 + (120*a + 120)*x^54 + (113*a + 28)*x^53 + (50*a + 79)*x^52 + (33*a + 22)*x^51 + (119*a + 7)*x^50 + (17*a + 26)*x^49 + (110*a + 39)*x^48 + (126*a + 30)*x^47 + (174*a + 59)*x^46 + (85*a + 108)*x^45 + (45*a + 14)*x^44 + (50*a + 160)*x^43 + (21*a + 155)*x^42 + (42*a + 173)*x^41 + (70*a + 20)*x^40 + (173*a + 169)*x^39 + (73*a + 64)*x^38 + 154*a*x^37 + (4*a + 154)*x^36 + (90*a + 97)*x^35 + (66*a + 92)*x^34 + (6*a + 175)*x^33 + (25*a + 172)*x^32 + (34*a + 116)*x^31 + (60*a + 159)*x^30 + (142*a + 19)*x^29 + (122*a + 24)*x^28 + (90*a + 107)*x^27 + (142*a + 107)*x^26 + (26*a + 106)*x^25 + (126*a + 119)*x^24 + (a + 49)*x^23 + (120*a + 76)*x^22 + (58*a + 164)*x^21 + (175*a + 79)*x^20 + (137*a + 13)*x^19 + (127*a + 147)*x^18 + (89*a + 56)*x^17 + (78*a + 130)*x^16 + (103*a + 4)*x^15 + (83*a + 117)*x^14 + (60*a + 174)*x^13 + (83*a + 132)*x^12 + (34*a + 108)*x^11 + (100*a + 5)*x^10 + (152*a + 156)*x^9 + (64*a + 7)*x^8 + (152*a + 100)*x^7 + (11*a + 59)*x^6 + (168*a + 175)*x^5 + (96*a + 35)*x^4 + (38*a + 160)*x^3 + (154*a + 134)*x^2 + (149*a + 91)*x + 171*a + 66)/(x^216 + (56*a + 79)*x^215 + (55*a + 143)*x^214 + (107*a + 16)*x^213 + (115*a + 56)*x^212 + (140*a + 1)*x^211 + (138*a + 37)*x^210 + (135*a + 169)*x^209 + (103*a + 98)*x^208 + (45*a + 166)*x^207 + (23*a + 57)*x^206 + (117*a + 60)*x^205 + (143*a + 36)*x^204 + (121*a + 147)*x^203 + (37*a + 21)*x^202 + (20*a + 12)*x^201 + (141*a + 38)*x^200 + (107*a + 117)*x^199 + (54*a + 102)*x^198 + (89*a + 82)*x^197 + (122*a + 107)*x^196 + (11*a + 161)*x^195 + (121*a + 167)*x^194 + (77*a + 69)*x^193 + (37*a + 149)*x^192 + (3*a + 82)*x^191 + (167*a + 166)*x^190 + (48*a + 93)*x^189 + (76*a + 128)*x^188 + (142*a + 6)*x^187 + (110*a + 26)*x^186 + (134*a + 32)*x^185 + (12*a + 78)*x^184 + (29*a + 113)*x^183 + (124*a + 166)*x^182 + (81*a + 21)*x^181 + (78*a + 133)*x^180 + (60*a + 70)*x^179 + (119*a + 151)*x^178 + (a + 98)*x^177 + (44*a + 164)*x^176 + (41*a + 155)*x^175 + 174*x^174 + (94*a + 4)*x^173 + (135*a + 48)*x^172 + (114*a + 89)*x^171 + (63*a + 116)*x^170 + (105*a + 160)*x^169 + (61*a + 121)*x^168 + (112*a + 160)*x^167 + (153*a + 130)*x^166 + (73*a + 136)*x^165 + (138*a + 107)*x^164 + (13*a + 73)*x^163 + (98*a + 157)*x^162 + (43*a + 50)*x^161 + (61*a + 178)*x^160 + (28*a + 35)*x^159 + (92*a + 4)*x^158 + (177*a + 60)*x^157 + (48*a + 112)*x^156 + (175*a + 45)*x^155 + (13*a + 167)*x^154 + (108*a + 136)*x^153 + (101*a + 136)*x^152 + (2*a + 29)*x^151 + (90*a + 152)*x^150 + (120*a + 61)*x^149 + (131*a + 83)*x^148 + (163*a + 2)*x^147 + (149*a + 84)*x^146 + (136*a + 2)*x^145 + (72*a + 95)*x^144 + (131*a + 48)*x^143 + (128*a + 23)*x^142 + (145*a + 99)*x^141 + (132*a + 7)*x^140 + (96*a + 29)*x^139 + (62*a + 102)*x^138 + (38*a + 91)*x^137 + (95*a + 91)*x^136 + (117*a + 108)*x^135 + (143*a + 144)*x^134 + (141*a + 121)*x^133 + (172*a + 86)*x^132 + (169*a + 37)*x^131 + (93*a + 71)*x^130 + (35*a + 118)*x^129 + (165*a + 23)*x^128 + (90*a + 93)*x^127 + (103*a + 137)*x^126 + (166*a + 1)*x^125 + (56*a + 2)*x^124 + (110*a + 156)*x^123 + (43*a + 39)*x^122 + (29*a + 57)*x^121 + (63*a + 57)*x^120 + (44*a + 53)*x^119 + (101*a + 25)*x^118 + (63*a + 73)*x^117 + (167*a + 129)*x^116 + (100*a + 81)*x^115 + (70*a + 160)*x^114 + (32*a + 75)*x^113 + (61*a + 175)*x^112 + (152*a + 127)*x^111 + (69*a + 13)*x^110 + (17*a + 146)*x^109 + (53*a + 22)*x^108 + (128*a + 37)*x^107 + (104*a + 125)*x^106 + (102*a + 100)*x^105 + (28*a + 72)*x^104 + (37*a + 76)*x^103 + (16*a + 79)*x^102 + (101*a + 58)*x^101 + (124*a + 167)*x^100 + (31*a + 177)*x^99 + (38*a + 141)*x^98 + (41*a + 116)*x^97 + (170*a + 154)*x^96 + (64*a + 115)*x^95 + (64*a + 70)*x^94 + (171*a + 136)*x^93 + (100*a + 147)*x^92 + (147*a + 166)*x^91 + (41*a + 151)*x^90 + (21*a + 165)*x^89 + (32*a + 178)*x^88 + (157*a + 61)*x^87 + (69*a + 11)*x^86 + (58*a + 114)*x^85 + (31*a + 66)*x^84 + (99*a + 86)*x^83 + (13*a + 50)*x^82 + (65*a + 159)*x^81 + (120*a + 145)*x^80 + (19*a + 86)*x^79 + (148*a + 120)*x^78 + (36*a + 103)*x^77 + (6*a + 116)*x^76 + (103*a + 175)*x^75 + (143*a + 63)*x^74 + (174*a + 96)*x^73 + (59*a + 111)*x^72 + (104*a + 82)*x^71 + (11*a + 98)*x^70 + (44*a + 111)*x^69 + (83*a + 35)*x^68 + (167*a + 36)*x^67 + (114*a + 110)*x^66 + (174*a + 114)*x^65 + (146*a + 143)*x^64 + (93*a + 64)*x^63 + (45*a + 17)*x^62 + (55*a + 160)*x^61 + (139*a + 153)*x^60 + (137*a + 23)*x^59 + (32*a + 121)*x^58 + (107*a + 142)*x^57 + (16*a + 69)*x^56 + (39*a + 121)*x^55 + (5*a + 163)*x^54 + (120*a + 96)*x^53 + (28*a + 165)*x^52 + (50*a + 145)*x^51 + (117*a + 33)*x^50 + (111*a + 88)*x^49 + (7*a + 4)*x^48 + (122*a + 98)*x^47 + (151*a + 150)*x^46 + (116*a + 2)*x^45 + (106*a + 7)*x^44 + (103*a + 142)*x^43 + (85*a + 138)*x^42 + (95*a + 110)*x^41 + (166*a + 29)*x^40 + (99*a + 114)*x^39 + (108*a + 152)*x^38 + (170*a + 12)*x^37 + (4*a + 88)*x^36 + (135*a + 19)*x^35 + (130*a + 97)*x^34 + (108*a + 122)*x^33 + (48*a + 155)*x^32 + (16*a + 89)*x^31 + (60*a + 32)*x^30 + (113*a + 12)*x^29 + (137*a + 128)*x^28 + (134*a + 145)*x^27 + (147*a + 126)*x^26 + (122*a + 11)*x^25 + (121*a + 19)*x^24 + (65*a + 32)*x^23 + (35*a + 47)*x^22 + (72*a + 2)*x^21 + (39*a + 168)*x^20 + (126*a + 111)*x^19 + (4*a + 2)*x^18 + (153*a + 75)*x^17 + (66*a + 33)*x^16 + (80*a + 162)*x^15 + (142*a + 5)*x^14 + (39*a + 154)*x^13 + (97*a + 108)*x^12 + (175*a + 106)*x^11 + (162*a + 119)*x^10 + (163*a + 28)*x^9 + (123*a + 117)*x^8 + (64*a + 32)*x^7 + (115*a + 42)*x^6 + (88*a + 45)*x^5 + (114*a + 173)*x^4 + (72*a + 99)*x^3 + (133*a + 28)*x^2 + (162*a + 110)*x + 104*a + 88)]"
      ]
     },
     "execution_count": 26,
     "metadata": {},
     "output_type": "execute_result"
    }
   ],
   "source": [
    "varphi22temp_divby4"
   ]
  },
  {
   "cell_type": "markdown",
   "metadata": {},
   "source": [
    "**Step 12:** Append to $H$:"
   ]
  },
  {
   "cell_type": "code",
   "execution_count": 27,
   "metadata": {},
   "outputs": [],
   "source": [
    "t = tprimeprime/4\n",
    "n = nprimeprime/16\n",
    "Theta22 = [varphi22temp_divby4, varphi174aplus109_m]\n",
    "H.append([varphi1728prime,[E22,Theta22,t,n]])"
   ]
  },
  {
   "cell_type": "markdown",
   "metadata": {},
   "source": [
    "**Step 13:** Return H."
   ]
  },
  {
   "cell_type": "code",
   "execution_count": 34,
   "metadata": {},
   "outputs": [
    {
     "data": {
      "text/plain": [
       "Isogeny of degree 2 from Elliptic Curve defined by y^2 = x^3 + 178*x over Finite Field in a of size 179^2 to Elliptic Curve defined by y^2 = x^3 + 168*x + 14 over Finite Field in a of size 179^2"
      ]
     },
     "execution_count": 34,
     "metadata": {},
     "output_type": "execute_result"
    }
   ],
   "source": [
    "H[0][0]"
   ]
  },
  {
   "cell_type": "code",
   "execution_count": 36,
   "metadata": {},
   "outputs": [
    {
     "data": {
      "text/plain": [
       "Elliptic Curve defined by y^2 = x^3 + 168*x + 14 over Finite Field in a of size 179^2"
      ]
     },
     "execution_count": 36,
     "metadata": {},
     "output_type": "execute_result"
    }
   ],
   "source": [
    "H[0][1][0]"
   ]
  },
  {
   "cell_type": "code",
   "execution_count": 37,
   "metadata": {},
   "outputs": [
    {
     "data": {
      "text/plain": [
       "1"
      ]
     },
     "execution_count": 37,
     "metadata": {},
     "output_type": "execute_result"
    }
   ],
   "source": [
    "H[0][1][2]"
   ]
  },
  {
   "cell_type": "code",
   "execution_count": 38,
   "metadata": {},
   "outputs": [
    {
     "data": {
      "text/plain": [
       "12"
      ]
     },
     "execution_count": 38,
     "metadata": {},
     "output_type": "execute_result"
    }
   ],
   "source": [
    "H[0][1][3]"
   ]
  },
  {
   "cell_type": "code",
   "execution_count": null,
   "metadata": {},
   "outputs": [],
   "source": []
  },
  {
   "cell_type": "code",
   "execution_count": null,
   "metadata": {},
   "outputs": [],
   "source": []
  }
 ],
 "metadata": {
  "kernelspec": {
   "display_name": "SageMath 9.6",
   "language": "sage",
   "name": "sagemath-9.6"
  },
  "language_info": {
   "codemirror_mode": {
    "name": "ipython",
    "version": 3
   },
   "file_extension": ".py",
   "mimetype": "text/x-python",
   "name": "python",
   "nbconvert_exporter": "python",
   "pygments_lexer": "ipython3",
   "version": "3.10.3"
  }
 },
 "nbformat": 4,
 "nbformat_minor": 4
}

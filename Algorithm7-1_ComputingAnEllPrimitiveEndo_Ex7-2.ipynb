{
 "cells": [
  {
   "cell_type": "markdown",
   "metadata": {
    "collapsed": false
   },
   "source": [
    "Algorithm 7.1- Computing an $\\ell$-primitive endomorphism given an endomorphism.\n",
    "This is the code to accompany Example 7.2."
   ]
  },
  {
   "cell_type": "code",
   "execution_count": 1,
   "metadata": {
    "collapsed": false
   },
   "outputs": [
   ],
   "source": [
    "load(\"McMurdyCode.sage\")"
   ]
  },
  {
   "cell_type": "markdown",
   "metadata": {
    "collapsed": false
   },
   "source": [
    "Beginning with our input, $(E_{1728},\\theta'=\\varphi_{171}\\circ\\varphi_{1728}, t'=2, n' =48)$. We store $\\theta'$ as the list ThetaPrime $= [\\varphi_{1728},\\varphi_{171}]$."
   ]
  },
  {
   "cell_type": "code",
   "execution_count": 2,
   "metadata": {
    "collapsed": false
   },
   "outputs": [
   ],
   "source": [
    "p =179\n",
    "F.<TT>=GF(p)[]\n",
    "K.<a>=GF(p^2,name='a',modulus=TT^2+1)\n",
    "R.<x>=PolynomialRing(K)\n",
    "E1728=EllipticCurve(K,[-1,0])\n",
    "W1728=x^3-x\n",
    "EndoI=[-x,R(a)]\n",
    "EndoJ=[x^p,W1728^((p-1)/2)]\n",
    "Endo1=[x,R(1)]\n",
    "Thetaprime = [[(x^16 + (156*a + 63)*x^15 + (142*a + 176)*x^14 + (98*a + 70)*x^13 + (129*a + 168)*x^12 + a*x^11 + (105*a + 21)*x^10 + (129*a + 156)*x^9 + (48*a + 103)*x^8 + (8*a + 26)*x^7 + (141*a + 85)*x^6 + (129*a + 107)*x^5 + (71*a + 111)*x^4 + (18*a + 3)*x^3 + (32*a + 97)*x^2 + (6*a + 117)*x + 56*a + 36)/(x^15 + (156*a + 63)*x^14 + (166*a + 21)*x^13 + (19*a + 2)*x^12 + (171*a + 120)*x^11 + (47*a + 149)*x^10 + (35*a + 116)*x^9 + (165*a + 178)*x^8 + (80*a + 127)*x^7 + (135*a + 36)*x^6 + (96*a + 124)*x^5 + (19*a + 174)*x^4 + 31*a*x^3 + (13*a + 2)*x^2 + (164*a + 166)*x + 10*a + 71),\n",
    " (178*x^23 + (124*a + 84)*x^22 + (115*a + 17)*x^21 + (31*a + 98)*x^20 + (70*a + 166)*x^19 + (13*a + 159)*x^18 + (153*a + 90)*x^17 + (62*a + 42)*x^16 + (50*a + 7)*x^15 + (148*a + 157)*x^14 + (177*a + 45)*x^13 + (34*a + 106)*x^12 + (14*a + 21)*x^11 + (168*a + 176)*x^10 + (62*a + 159)*x^9 + (53*a + 170)*x^8 + (59*a + 68)*x^7 + (27*a + 73)*x^6 + (103*a + 104)*x^5 + (119*a + 98)*x^4 + (62*a + 125)*x^3 + (110*a + 45)*x^2 + (174*a + 146)*x + 74*a + 97)/(x^23 + (55*a + 95)*x^22 + (40*a + 138)*x^21 + (58*a + 163)*x^20 + (11*a + 58)*x^19 + (4*a + 164)*x^18 + (93*a + 119)*x^17 + (39*a + 67)*x^16 + (111*a + 6)*x^15 + (158*a + 89)*x^14 + (102*a + 59)*x^13 + (52*a + 55)*x^12 + (137*a + 164)*x^11 + (165*a + 31)*x^10 + (109*a + 114)*x^9 + (177*a + 50)*x^8 + (129*a + 81)*x^7 + (2*a + 23)*x^6 + (56*a + 45)*x^5 + (7*a + 22)*x^4 + (141*a + 127)*x^3 + (163*a + 56)*x^2 + (156*a + 169)*x + 26*a + 87)], [((31*a + 177)*x^3 + 10*a*x^2 + (84*a + 144)*x + 45*a + 90)/(x^2 + (102*a + 30)*x + 98*a + 130),\n",
    " ((55*a + 141)*x^3 + (62*a + 78)*x^2 + (72*a + 71)*x + 95*a + 131)/(x^3 + (153*a + 45)*x^2 + (115*a + 32)*x + 45*a + 174)]]\n",
    "phi1728=Thetaprime[0];\n",
    "phi171=Thetaprime[1];\n",
    "tprime=2;\n",
    "nprime=48;\n",
    "ell=2;\n",
    "E171=EllipticCurve([0,0,0,120*a + 119,66*a + 112]) \n",
    "W171=x^3 + (120*a + 119)*x + 66*a + 112"
   ]
  },
  {
   "cell_type": "markdown",
   "metadata": {
    "collapsed": false
   },
   "source": [
    "**Step 1:** Compute $(t')^2 - 4n'$ to determine if it is $\\ell$-fundamental:"
   ]
  },
  {
   "cell_type": "code",
   "execution_count": 5,
   "metadata": {
    "collapsed": false
   },
   "outputs": [
    {
     "data": {
      "text/plain": [
       "-1 * 2^2 * 47"
      ]
     },
     "execution_count": 5,
     "metadata": {
     },
     "output_type": "execute_result"
    }
   ],
   "source": [
    "factor(tprime^2 - 4*nprime)"
   ]
  },
  {
   "cell_type": "markdown",
   "metadata": {
    "collapsed": false
   },
   "source": [
    "Since $\\ell=2$ divides $(t')^2 - 4n'$, we continue to Step 3.\n",
    "\n",
    "**Step 3:** The input is already $\\ell$-suitable. \n",
    "\n",
    "**Step 4:** Set $c = 0$"
   ]
  },
  {
   "cell_type": "code",
   "execution_count": 6,
   "metadata": {
    "collapsed": false
   },
   "outputs": [
   ],
   "source": [
    "c=0"
   ]
  },
  {
   "cell_type": "markdown",
   "metadata": {
    "collapsed": false
   },
   "source": [
    "**Step 5:** To see if $[2]$ divides $\\theta'$, we evaluate $\\theta'$ on $E_{1728}[2]$ and show that $E_{1728}[2]\\not\\subseteq\\ker(\\theta')$."
   ]
  },
  {
   "cell_type": "code",
   "execution_count": 14,
   "metadata": {
    "collapsed": false
   },
   "outputs": [
    {
     "name": "stdout",
     "output_type": "stream",
     "text": [
      "The two-torsion point P:  (0 : 0 : 1)  is not in ker(theta')\n",
      "\n",
      "\n",
      "The two-torsion point P:  (1 : 0 : 1)  is not in ker(theta')\n",
      "\n"
     ]
    }
   ],
   "source": [
    "E1728_2Tor = E1728.division_polynomial(2).roots(multiplicities = False)\n",
    "for i in range(len(E1728_2Tor)):\n",
    "    xval = E1728_2Tor[i]\n",
    "    P = E1728.lift_x(xval)\n",
    "    varphi1728denom = phi1728[0].denominator()(x=xval)\n",
    "    if varphi1728denom != 0:\n",
    "        varphi1728P = phi1728[0].numerator()(x=xval)/varphi1728denom\n",
    "        varphi171denom = phi171[0].denominator()(x = varphi1728P)\n",
    "        if varphi171denom != 0:\n",
    "            print(\"The two-torsion point P: \", P, \" is not in ker(theta')\")\n",
    "    print(\"\")"
   ]
  },
  {
   "cell_type": "markdown",
   "metadata": {
    "collapsed": false
   },
   "source": [
    "We skip the **While** loop and return our original input traced endomorphism together wih $c = 0$."
   ]
  },
  {
   "cell_type": "code",
   "execution_count": 0,
   "metadata": {
    "collapsed": false
   },
   "outputs": [
   ],
   "source": [
   ]
  }
 ],
 "metadata": {
  "kernelspec": {
   "display_name": "SageMath 9.2",
   "language": "sagemath",
   "metadata": {
    "cocalc": {
     "description": "Open-source mathematical software system",
     "priority": 1,
     "url": "https://www.sagemath.org/"
    }
   },
   "name": "sage-9.2",
   "resource_dir": "/ext/jupyter/kernels/sage-9.2"
  },
  "language_info": {
   "codemirror_mode": {
    "name": "ipython",
    "version": 3
   },
   "file_extension": ".py",
   "mimetype": "text/x-python",
   "name": "python",
   "nbconvert_exporter": "python",
   "pygments_lexer": "ipython3",
   "version": "3.8.10"
  }
 },
 "nbformat": 4,
 "nbformat_minor": 4
}
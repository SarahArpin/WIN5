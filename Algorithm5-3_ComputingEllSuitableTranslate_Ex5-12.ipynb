{
 "cells": [
  {
   "cell_type": "markdown",
   "metadata": {
    "collapsed": false
   },
   "source": [
    "We begin by setting up our field and curve $E_{117} = E_{1728}: y^2 = x^3 - x$"
   ]
  },
  {
   "cell_type": "code",
   "execution_count": 68,
   "metadata": {
    "collapsed": false
   },
   "outputs": [
   ],
   "source": [
    "load(\"McMurdyCode.sage\")\n",
    "p = 179\n",
    "ell = 2\n",
    "F.<TT> = GF(p)[]\n",
    "K.<a> = GF(p^2,name='a',modulus=TT^2+1)\n",
    "R.<x> = PolynomialRing(K)\n",
    "E117 = EllipticCurve(K,[-1,0])\n",
    "W117 = x^3-x\n",
    "EndoI = [-x,R(a)]\n",
    "EndoJ = [x^p,W117^((p-1)/2)]\n",
    "Endo1 = [x,R(1)]"
   ]
  },
  {
   "cell_type": "markdown",
   "metadata": {
    "collapsed": false
   },
   "source": [
    "Our rational map $\\theta$ is given below:"
   ]
  },
  {
   "cell_type": "code",
   "execution_count": 69,
   "metadata": {
    "collapsed": false
   },
   "outputs": [
   ],
   "source": [
    "I1_3 = EndoAdd(EndoDouble(EndoI,W117),EndoI,W117)\n",
    "J1_1 = EndoJ\n",
    "EndoK = IsoCompose(J1_1, EndoI)\n",
    "Endotemp117 = EndoAdd(I1_3,EndoK,W117)\n",
    "Theta = DivideBy2(Endotemp117,W117)"
   ]
  },
  {
   "cell_type": "markdown",
   "metadata": {
    "collapsed": false
   },
   "source": [
    "**Step 1:** Compute the minimal $2$-suitable translate of $\\theta$. For this, we need the trace and norm of theta:"
   ]
  },
  {
   "cell_type": "code",
   "execution_count": 26,
   "metadata": {
    "collapsed": false
   },
   "outputs": [
    {
     "data": {
      "text/plain": [
       "-1 * 2^2 * 47"
      ]
     },
     "execution_count": 26,
     "metadata": {
     },
     "output_type": "execute_result"
    }
   ],
   "source": [
    "t = 0\n",
    "n = 47\n",
    "disc = t^2 - 4*n\n",
    "factor(disc)"
   ]
  },
  {
   "cell_type": "markdown",
   "metadata": {
    "collapsed": false
   },
   "source": [
    "With this information, we can find the integer which gives the minimal $2$-suitable translate of theta.\n",
    "\n",
    "Remove all powers of four from the discriminant:"
   ]
  },
  {
   "cell_type": "code",
   "execution_count": 27,
   "metadata": {
    "collapsed": false
   },
   "outputs": [
    {
     "name": "stdout",
     "output_type": "stream",
     "text": [
      "-1 * 47\n",
      "1\n"
     ]
    }
   ],
   "source": [
    "DeltaThetaRed = ZZ((t^2-4*n)/2^2)\n",
    "print(factor(DeltaThetaRed))\n",
    "print(DeltaThetaRed.mod(4))"
   ]
  },
  {
   "cell_type": "markdown",
   "metadata": {
    "collapsed": false
   },
   "source": [
    "Since this reduced Delta is 1 mod 4, and we use ell = 2, this gives us t' = ell = 2,\n",
    "And we compute the output T accordingly:"
   ]
  },
  {
   "cell_type": "code",
   "execution_count": 28,
   "metadata": {
    "collapsed": false
   },
   "outputs": [
    {
     "data": {
      "text/plain": [
       "1"
      ]
     },
     "execution_count": 28,
     "metadata": {
     },
     "output_type": "execute_result"
    }
   ],
   "source": [
    "tprime = 2\n",
    "T = -(t - tprime)/2\n",
    "T"
   ]
  },
  {
   "cell_type": "markdown",
   "metadata": {
    "collapsed": false
   },
   "source": [
    "The endomorphism theta + 1 is 2-suitable. We can hold off on actually adding $[1]$ to theta until after Step 2 is complete.\n",
    "\n",
    "**Step 2:** We crudely sieve for an appropriate b:"
   ]
  },
  {
   "cell_type": "code",
   "execution_count": 30,
   "metadata": {
    "collapsed": false
   },
   "outputs": [
    {
     "name": "stdout",
     "output_type": "stream",
     "text": [
      "b =  -10\n",
      "nb =  2^3 * 3 * 17\n",
      "\n",
      "b =  -9\n",
      "nb =  2^4 * 3 * 7\n",
      "\n",
      "b =  -8\n",
      "nb =  2^4 * 17\n",
      "\n",
      "b =  -7\n",
      "nb =  2^3 * 3^3\n",
      "\n",
      "b =  -6\n",
      "nb =  2^3 * 3 * 7\n",
      "\n",
      "b =  -5\n",
      "nb =  2^7\n",
      "\n",
      "b =  -4\n",
      "nb =  2^5 * 3\n",
      "\n",
      "b =  -3\n",
      "nb =  2^3 * 3^2\n",
      "\n",
      "b =  -2\n",
      "nb =  2^3 * 7\n",
      "\n",
      "b =  -1\n",
      "nb =  2^4 * 3\n",
      "\n",
      "b =  0\n",
      "nb =  2^4 * 3\n",
      "\n",
      "b =  1\n",
      "nb =  2^3 * 7\n",
      "\n",
      "b =  2\n",
      "nb =  2^3 * 3^2\n",
      "\n",
      "b =  3\n",
      "nb =  2^5 * 3\n",
      "\n",
      "b =  4\n",
      "nb =  2^7\n",
      "\n",
      "b =  5\n",
      "nb =  2^3 * 3 * 7\n",
      "\n",
      "b =  6\n",
      "nb =  2^3 * 3^3\n",
      "\n",
      "b =  7\n",
      "nb =  2^4 * 17\n",
      "\n",
      "b =  8\n",
      "nb =  2^4 * 3 * 7\n",
      "\n",
      "b =  9\n",
      "nb =  2^3 * 3 * 17\n",
      "\n",
      "b =  10\n",
      "nb =  2^3 * 61\n",
      "\n"
     ]
    }
   ],
   "source": [
    "BOUND = 10\n",
    "for b in range(-BOUND,BOUND+1):\n",
    "    print(\"b = \",b)\n",
    "    nb = n + (T+b*ell)*t + (T+b*ell)^2\n",
    "    print(\"nb = \",factor(nb))\n",
    "    print(\"\")"
   ]
  },
  {
   "cell_type": "markdown",
   "metadata": {
    "collapsed": false
   },
   "source": [
    "Take the powersmooth bound $B = 16$ and proceed with $b = 0$.\n",
    "Now, we are ready to define our output:\n",
    "\n",
    "$theta' = theta + T + b\\ell = theta + 1$\n",
    "\n",
    "$t' = t + 2T + 2b\\ell = 0 + 2 = 2$\n",
    "\n",
    "$n' = n + (T + b\\ell)t + (T + b\\ell)^2$\n"
   ]
  },
  {
   "cell_type": "code",
   "execution_count": 31,
   "metadata": {
    "collapsed": false
   },
   "outputs": [
    {
     "name": "stdout",
     "output_type": "stream",
     "text": [
      "Degree of theta' =  2^4 * 3\n",
      "Trace of theta' =  2\n",
      "Norm of theta' =  2^4 * 3\n"
     ]
    }
   ],
   "source": [
    "b = 0\n",
    "ThetaPrime = EndoAdd(Theta,Endo1,W117)\n",
    "print(\"Degree of theta' = \",factor(max(ThetaPrime[0].numerator().degree(),ThetaPrime[0].denominator().degree())))\n",
    "tprime = t + 2*T + 2*b*ell\n",
    "print(\"Trace of theta' = \",tprime)\n",
    "nprime = n + (T + b*ell)*t + (T + b*ell)^2\n",
    "print(\"Norm of theta' = \",factor(nprime))"
   ]
  },
  {
   "cell_type": "markdown",
   "metadata": {
    "collapsed": false
   },
   "source": [
    "**Step 3:** We factor ThetaPrime = theta + 1 into an isogeny chain, using Algorithm 5.1.\n",
    "\n",
    "For this, we need to work in an extension field."
   ]
  },
  {
   "cell_type": "code",
   "execution_count": 42,
   "metadata": {
    "collapsed": false
   },
   "outputs": [
   ],
   "source": [
    "H = []\n",
    "p =179\n",
    "K_=K.extension(16,'z16')\n",
    "z16=K_.gen()\n",
    "S_.<x>=PolynomialRing(K_)\n",
    "E1728=EllipticCurve(K_,[-1,0])\n",
    "W1728=x^3-x\n",
    "EndoI=[-x,S_(sqrt(K(-1)))]\n",
    "EndoJ=[x^p,W1728^((p-1)/2)]\n",
    "Endo1=[x,S_(1)]"
   ]
  },
  {
   "cell_type": "markdown",
   "metadata": {
    "collapsed": false
   },
   "source": [
    "We will begin by finding the degree-16 isogeny."
   ]
  },
  {
   "cell_type": "code",
   "execution_count": 43,
   "metadata": {
    "collapsed": false
   },
   "outputs": [
    {
     "name": "stdout",
     "output_type": "stream",
     "text": [
      "178\n",
      "2\n",
      "102*z16^31 + 138*z16^30 + 88*z16^29 + 141*z16^28 + 45*z16^27 + 167*z16^26 + 170*z16^25 + 177*z16^24 + 178*z16^23 + 143*z16^22 + 17*z16^21 + 111*z16^20 + 100*z16^19 + 140*z16^17 + 140*z16^16 + 130*z16^15 + 166*z16^14 + 2*z16^13 + 61*z16^12 + 16*z16^11 + 3*z16^10 + 108*z16^9 + 111*z16^8 + 68*z16^7 + 54*z16^6 + 96*z16^5 + 133*z16^4 + 154*z16^3 + 5*z16^2 + 18*z16 + 152\n",
      "4\n",
      "139*z16^31 + 88*z16^30 + 141*z16^29 + 89*z16^28 + 86*z16^27 + 41*z16^26 + 129*z16^25 + 102*z16^24 + 111*z16^23 + 30*z16^22 + 12*z16^21 + 55*z16^19 + 52*z16^18 + 156*z16^17 + 140*z16^16 + 139*z16^15 + 34*z16^14 + 106*z16^13 + 50*z16^12 + 167*z16^11 + 130*z16^10 + 138*z16^9 + 140*z16^8 + 155*z16^7 + 121*z16^6 + 41*z16^5 + 37*z16^4 + 148*z16^3 + 36*z16^2 + 102*z16 + 136\n",
      "16\n",
      "142*z16^31 + 85*z16^30 + 164*z16^29 + 57*z16^28 + 28*z16^27 + 104*z16^26 + 118*z16^25 + 113*z16^24 + 18*z16^23 + 80*z16^22 + 11*z16^21 + 25*z16^20 + 50*z16^19 + 52*z16^18 + 116*z16^17 + 71*z16^16 + 160*z16^15 + 49*z16^14 + 65*z16^13 + 68*z16^12 + 60*z16^11 + 112*z16^10 + 134*z16^9 + 8*z16^8 + 121*z16^7 + 106*z16^6 + 75*z16^5 + 75*z16^4 + 174*z16^3 + 73*z16^2 + 104*z16 + 130\n",
      "16\n",
      "100*z16^31 + 102*z16^30 + 110*z16^29 + 6*z16^28 + 105*z16^27 + 96*z16^26 + 88*z16^25 + 91*z16^24 + 11*z16^23 + 146*z16^22 + 29*z16^21 + 49*z16^20 + 66*z16^19 + 158*z16^18 + 82*z16^17 + 127*z16^16 + 23*z16^15 + 32*z16^14 + 50*z16^13 + 17*z16^12 + 7*z16^11 + 156*z16^10 + 105*z16^9 + 127*z16^8 + 18*z16^7 + 31*z16^6 + 101*z16^5 + 13*z16^4 + 15*z16^3 + 47*z16^2 + 121*z16 + 118\n",
      "8\n",
      "37*z16^31 + 136*z16^30 + 117*z16^29 + 136*z16^28 + 66*z16^27 + 109*z16^26 + 21*z16^25 + 152*z16^24 + 21*z16^23 + 111*z16^22 + 143*z16^21 + 158*z16^20 + 135*z16^19 + 21*z16^18 + 92*z16^17 + 47*z16^16 + 113*z16^15 + 26*z16^14 + 65*z16^13 + 18*z16^11 + 106*z16^10 + 19*z16^9 + 80*z16^8 + 133*z16^7 + 31*z16^6 + 49*z16^5 + 27*z16^4 + 69*z16^3 + 151*z16^2 + 19*z16 + 112\n",
      "8\n"
     ]
    },
    {
     "name": "stdout",
     "output_type": "stream",
     "text": [
      "80*z16^31 + 72*z16^30 + 68*z16^29 + 136*z16^28 + 90*z16^27 + 25*z16^26 + 148*z16^25 + 87*z16^24 + 124*z16^23 + 34*z16^22 + 11*z16^21 + 47*z16^20 + 101*z16^19 + 73*z16^18 + 174*z16^17 + 134*z16^16 + 91*z16^15 + 104*z16^14 + 33*z16^13 + 35*z16^12 + 32*z16^11 + 121*z16^10 + 90*z16^9 + 18*z16^8 + 104*z16^7 + 10*z16^6 + 172*z16^5 + 173*z16^4 + 11*z16^3 + 146*z16^2 + 139*z16 + 44\n",
      "16\n",
      "14*z16^31 + 136*z16^30 + 119*z16^29 + 10*z16^28 + 72*z16^27 + 7*z16^26 + 51*z16^25 + 175*z16^24 + 75*z16^23 + 29*z16^22 + 118*z16^21 + 36*z16^20 + 109*z16^19 + 2*z16^18 + 174*z16^17 + 96*z16^16 + 109*z16^15 + 139*z16^14 + 35*z16^13 + 66*z16^12 + 42*z16^11 + 85*z16^10 + 14*z16^9 + 121*z16^8 + 49*z16^7 + 130*z16^6 + 86*z16^5 + 125*z16^4 + 170*z16^3 + 74*z16^2 + 16*z16 + 19\n",
      "16\n"
     ]
    }
   ],
   "source": [
    "E1728_16TorsionPts = E1728.division_polynomial(16).roots(K_,multiplicities = False);\n",
    "for xval in E1728_16TorsionPts:\n",
    "    if ThetaPrime[0].denominator()(x = xval) == 0:\n",
    "        print(xval)\n",
    "        print(E1728.lift_x(xval).order())"
   ]
  },
  {
   "cell_type": "markdown",
   "metadata": {
    "collapsed": false
   },
   "source": [
    "Choose one of the points of order 16 to generate the isogeny $\\varphi_{1728}$:"
   ]
  },
  {
   "cell_type": "code",
   "execution_count": 61,
   "metadata": {
    "collapsed": false
   },
   "outputs": [
    {
     "name": "stdout",
     "output_type": "stream",
     "text": [
      "Codomain:  Elliptic Curve defined by y^2 = x^3 + (33*z16^31+171*z16^30+39*z16^29+93*z16^28+83*z16^27+133*z16^26+55*z16^25+52*z16^24+26*z16^23+41*z16^22+95*z16^21+157*z16^20+85*z16^19+119*z16^17+119*z16^16+21*z16^15+159*z16^14+127*z16^13+25*z16^12+121*z16^11+101*z16^10+56*z16^9+157*z16^8+22*z16^7+28*z16^6+10*z16^5+122*z16^4+113*z16^3+49*z16^2+69*z16+79)*x + (45*z16^31+103*z16^30+102*z16^29+78*z16^28+162*z16^27+100*z16^26+75*z16^25+136*z16^24+68*z16^23+121*z16^22+97*z16^21+149*z16^20+2*z16^19+146*z16^17+146*z16^16+110*z16^15+168*z16^14+43*z16^13+148*z16^12+165*z16^11+154*z16^10+174*z16^9+149*z16^8+30*z16^7+87*z16^6+95*z16^5+85*z16^4+89*z16^3+18*z16^2+29*z16+90) over Finite Field in z16 of size 179^32 , j(codomain)= 171\n"
     ]
    }
   ],
   "source": [
    "ker_varphi1728 = E1728.lift_x(139*z16^31 + 88*z16^30 + 141*z16^29 + 89*z16^28 + 86*z16^27 + 41*z16^26 + 129*z16^25 + 102*z16^24 + 111*z16^23 + 30*z16^22 + 12*z16^21 + 55*z16^19 + 52*z16^18 + 156*z16^17 + 140*z16^16 + 139*z16^15 + 34*z16^14 + 106*z16^13 + 50*z16^12 + 167*z16^11 + 130*z16^10 + 138*z16^9 + 140*z16^8 + 155*z16^7 + 121*z16^6 + 41*z16^5 + 37*z16^4 + 148*z16^3 + 36*z16^2 + 102*z16 + 136,\n",
    " 70*z16^31 + z16^30 + 42*z16^29 + 81*z16^28 + 64*z16^27 + 172*z16^26 + 108*z16^25 + 144*z16^24 + 123*z16^23 + 160*z16^22 + 88*z16^21 + 118*z16^20 + 48*z16^19 + 176*z16^18 + 38*z16^17 + 5*z16^16 + 100*z16^15 + 34*z16^14 + 129*z16^13 + 174*z16^12 + 91*z16^11 + 62*z16^10 + 4*z16^9 + 46*z16^8 + 138*z16^7 + 102*z16^6 + 134*z16^5 + 119*z16^4 + 23*z16^3 + 67*z16^2 + 5*z16 + 176)\n",
    "phi1728 = EllipticCurveIsogeny(E1728, ker_varphi1728)\n",
    "E171 = phi1728.codomain()\n",
    "print(\"Codomain: \", phi1728.codomain(), \", j(codomain)=\", R(phi1728.codomain().j_invariant()))"
   ]
  },
  {
   "cell_type": "markdown",
   "metadata": {
    "collapsed": false
   },
   "source": [
    "The equation of the codomain $E_{171}$ of $\\phi_{1728}$. We wish to find a rational representation of our isogeny $\\varphi_{1728}$ with coefficients in $\\mathbb{F}_{p^2}$, so we move the coefficients down and append the resulting isogeny to $H$:"
   ]
  },
  {
   "cell_type": "code",
   "execution_count": 58,
   "metadata": {
    "collapsed": false
   },
   "outputs": [
    {
     "name": "stdout",
     "output_type": "stream",
     "text": [
      "[[[x^16 + (156*a + 63)*x^15 + (142*a + 176)*x^14 + (98*a + 70)*x^13 + (129*a + 168)*x^12 + a*x^11 + (105*a + 21)*x^10 + (129*a + 156)*x^9 + (48*a + 103)*x^8 + (8*a + 26)*x^7 + (141*a + 85)*x^6 + (129*a + 107)*x^5 + (71*a + 111)*x^4 + (18*a + 3)*x^3 + (32*a + 97)*x^2 + (6*a + 117)*x + 56*a + 36, x^15 + (156*a + 63)*x^14 + (166*a + 21)*x^13 + (19*a + 2)*x^12 + (171*a + 120)*x^11 + (47*a + 149)*x^10 + (35*a + 116)*x^9 + (165*a + 178)*x^8 + (80*a + 127)*x^7 + (135*a + 36)*x^6 + (96*a + 124)*x^5 + (19*a + 174)*x^4 + 31*a*x^3 + (13*a + 2)*x^2 + (164*a + 166)*x + 10*a + 71], [x^23 + (55*a + 95)*x^22 + (64*a + 162)*x^21 + (148*a + 81)*x^20 + (109*a + 13)*x^19 + (166*a + 20)*x^18 + (26*a + 89)*x^17 + (117*a + 137)*x^16 + (129*a + 172)*x^15 + (31*a + 22)*x^14 + (2*a + 134)*x^13 + (145*a + 73)*x^12 + (165*a + 158)*x^11 + (11*a + 3)*x^10 + (117*a + 20)*x^9 + (126*a + 9)*x^8 + (120*a + 111)*x^7 + (152*a + 106)*x^6 + (76*a + 75)*x^5 + (60*a + 81)*x^4 + (117*a + 54)*x^3 + (69*a + 134)*x^2 + (5*a + 33)*x + 105*a + 82, x^23 + (55*a + 95)*x^22 + (40*a + 138)*x^21 + (58*a + 163)*x^20 + (11*a + 58)*x^19 + (4*a + 164)*x^18 + (93*a + 119)*x^17 + (39*a + 67)*x^16 + (111*a + 6)*x^15 + (158*a + 89)*x^14 + (102*a + 59)*x^13 + (52*a + 55)*x^12 + (137*a + 164)*x^11 + (165*a + 31)*x^10 + (109*a + 114)*x^9 + (177*a + 50)*x^8 + (129*a + 81)*x^7 + (2*a + 23)*x^6 + (56*a + 45)*x^5 + (7*a + 22)*x^4 + (141*a + 127)*x^3 + (163*a + 56)*x^2 + (156*a + 169)*x + 26*a + 87]]]\n"
     ]
    }
   ],
   "source": [
    "def smaller_field(phi):\n",
    "    phi = [[phi[0].numerator(), phi[0].denominator()],[phi[1].numerator(), phi[1].denominator()]]\n",
    "    phi_small = []\n",
    "    for i in range(len(phi)):\n",
    "        lst = []\n",
    "        for j in range(len(phi[0])):\n",
    "            coeff = [K(a[0]) for a in phi[i][j]]\n",
    "            deg = len(coeff)\n",
    "            RR.<x> = PolynomialRing(K)\n",
    "            poly = RR(sum((coeff[i])*x^(deg - i-1) for i in range(deg)))\n",
    "            lst.append(poly)\n",
    "        phi_small.append(lst)\n",
    "    return phi_small\n",
    "smallerfield_phi1728 = smaller_field(phi1728)\n",
    "H.append(smallerfield_phi1728)\n",
    "print(H)"
   ]
  },
  {
   "cell_type": "markdown",
   "metadata": {
    "collapsed": false
   },
   "source": [
    "Continuing, we now find the appropriate degree-3 isogeny:"
   ]
  },
  {
   "cell_type": "code",
   "execution_count": 60,
   "metadata": {
    "collapsed": false
   },
   "outputs": [
    {
     "name": "stdout",
     "output_type": "stream",
     "text": [
      "116*z16^31 + 178*z16^30 + 72*z16^29 + 34*z16^28 + 167*z16^27 + 39*z16^26 + 74*z16^25 + 96*z16^24 + 48*z16^23 + 117*z16^22 + 79*z16^21 + 42*z16^20 + 33*z16^19 + 82*z16^17 + 82*z16^16 + 25*z16^15 + 87*z16^14 + 83*z16^13 + 115*z16^12 + 127*z16^11 + 35*z16^10 + 7*z16^9 + 42*z16^8 + 137*z16^7 + 93*z16^6 + 46*z16^5 + 60*z16^4 + 126*z16^3 + 118*z16^2 + 31*z16 + 174\n",
      "3\n",
      "The image kernel is generated by: (71*z16^31 + 75*z16^30 + 149*z16^29 + 135*z16^28 + 5*z16^27 + 118*z16^26 + 178*z16^25 + 139*z16^24 + 159*z16^23 + 175*z16^22 + 161*z16^21 + 72*z16^20 + 31*z16^19 + 115*z16^17 + 115*z16^16 + 94*z16^15 + 98*z16^14 + 40*z16^13 + 146*z16^12 + 141*z16^11 + 60*z16^10 + 12*z16^9 + 72*z16^8 + 107*z16^7 + 6*z16^6 + 130*z16^5 + 154*z16^4 + 37*z16^3 + 100*z16^2 + 2*z16 + 2 : 46*z16^31 + 157*z16^30 + 152*z16^29 + 32*z16^28 + 94*z16^27 + 142*z16^26 + 17*z16^25 + 143*z16^24 + 161*z16^23 + 68*z16^22 + 127*z16^21 + 29*z16^20 + 10*z16^19 + 14*z16^17 + 14*z16^16 + 13*z16^15 + 124*z16^14 + 36*z16^13 + 24*z16^12 + 109*z16^11 + 54*z16^10 + 154*z16^9 + 29*z16^8 + 150*z16^7 + 77*z16^6 + 117*z16^5 + 67*z16^4 + 87*z16^3 + 90*z16^2 + 145*z16 + 158 : 1)\n"
     ]
    }
   ],
   "source": [
    "E1728_3TorsionPts = E1728.division_polynomial(3).roots(K_,multiplicities = False)\n",
    "for xval in E1728_3TorsionPts:\n",
    "    if ThetaPrime[0].denominator()(x = xval) == 0:\n",
    "        print(xval)\n",
    "        print(E1728.lift_x(xval).order())\n",
    "        print(\"The image kernel is generated by:\",phi1728(E1728.lift_x(xval)))"
   ]
  },
  {
   "cell_type": "code",
   "execution_count": 63,
   "metadata": {
    "collapsed": false
   },
   "outputs": [
   ],
   "source": [
    "phi171 = EllipticCurveIsogeny(E171,phi1728(E1728.lift_x(116*z16^31 + 178*z16^30 + 72*z16^29 + 34*z16^28 + 167*z16^27 + 39*z16^26 + 74*z16^25 + 96*z16^24 + 48*z16^23 + 117*z16^22 + 79*z16^21 + 42*z16^20 + 33*z16^19 + 82*z16^17 + 82*z16^16 + 25*z16^15 + 87*z16^14 + 83*z16^13 + 115*z16^12 + 127*z16^11 + 35*z16^10 + 7*z16^9 + 42*z16^8 + 137*z16^7 + 93*z16^6 + 46*z16^5 + 60*z16^4 + 126*z16^3 + 118*z16^2 + 31*z16 + 174)))"
   ]
  },
  {
   "cell_type": "code",
   "execution_count": 64,
   "metadata": {
    "collapsed": false
   },
   "outputs": [
   ],
   "source": [
    "H.append(smaller_field(phi171))"
   ]
  },
  {
   "cell_type": "code",
   "execution_count": 65,
   "metadata": {
    "collapsed": false
   },
   "outputs": [
    {
     "data": {
      "text/plain": [
       "2"
      ]
     },
     "execution_count": 65,
     "metadata": {
     },
     "output_type": "execute_result"
    }
   ],
   "source": [
    "len(H)"
   ]
  },
  {
   "cell_type": "code",
   "execution_count": 0,
   "metadata": {
    "collapsed": false
   },
   "outputs": [
   ],
   "source": [
   ]
  }
 ],
 "metadata": {
  "kernelspec": {
   "display_name": "SageMath 9.4",
   "language": "sagemath",
   "metadata": {
    "cocalc": {
     "description": "Open-source mathematical software system",
     "priority": 10,
     "url": "https://www.sagemath.org/"
    }
   },
   "name": "sage-9.4",
   "resource_dir": "/ext/jupyter/kernels/sage-9.4"
  },
  "language_info": {
   "codemirror_mode": {
    "name": "ipython",
    "version": 3
   },
   "file_extension": ".py",
   "mimetype": "text/x-python",
   "name": "python",
   "nbconvert_exporter": "python",
   "pygments_lexer": "ipython3",
   "version": "3.9.5"
  }
 },
 "nbformat": 4,
 "nbformat_minor": 4
}
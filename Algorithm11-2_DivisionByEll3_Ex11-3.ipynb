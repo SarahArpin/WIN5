{
 "cells": [
  {
   "cell_type": "markdown",
   "metadata": {
    "collapsed": false
   },
   "source": [
    "Algorithm 11.2 - Division by $[\\ell]$. This is the code to accompany Example 11.3 with $\\ell = 3$."
   ]
  },
  {
   "cell_type": "code",
   "execution_count": 25,
   "metadata": {
    "collapsed": false
   },
   "outputs": [
   ],
   "source": [
    "load(\"McMurdyCode.sage\")\n",
    "load(\"DivideByThreeCode.sage\")"
   ]
  },
  {
   "cell_type": "code",
   "execution_count": 8,
   "metadata": {
    "collapsed": false
   },
   "outputs": [
   ],
   "source": [
    "p = 179\n",
    "F.<TT> = GF(p)[]\n",
    "K.<ai> = GF(p^2,name='ai',modulus=TT^2+1)\n",
    "R.<x> = PolynomialRing(K)\n",
    "E1728 = EllipticCurve(K,[-1, 0])\n",
    "W1728 = x^3-x\n",
    "EndoI = [-x, R(ai)]\n",
    "EndoJ = [x^p, W1728^((p-1)/2)]\n",
    "Endo1 = [x,R(1)]\n",
    "theta = EndoAdd(EndoI, Endo1, W1728)\n",
    "three_theta = EndoTriple(theta, W1728)\n",
    "R1.<Y,y0,y1,y2,y3,t> = PolynomialRing(K)"
   ]
  },
  {
   "cell_type": "markdown",
   "metadata": {
    "collapsed": false
   },
   "source": [
    "Begin by printing $F_1, F_2, G_1, G_2$:"
   ]
  },
  {
   "cell_type": "code",
   "execution_count": 11,
   "metadata": {
    "collapsed": false
   },
   "outputs": [
    {
     "name": "stdout",
     "output_type": "stream",
     "text": [
      "F_1 =  169*ai*x^18 + 33*ai*x^16 + 72*ai*x^14 + 66*ai*x^12 + 68*ai*x^10 + 111*ai*x^8 + 113*ai*x^6 + 107*ai*x^4 + 146*ai*x^2 + 10*ai\n",
      "\n",
      "F_2 =  x^17 + 8*x^15 + 45*x^13 + 124*x^11 + 110*x^9 + 124*x^7 + 45*x^5 + 8*x^3 + x\n",
      "\n",
      "G_1 =  (58*ai + 58)*x^26 + (170*ai + 170)*x^24 + (81*ai + 81)*x^22 + (32*ai + 32)*x^20 + (125*ai + 125)*x^18 + (64*ai + 64)*x^16 + (81*ai + 81)*x^14 + (81*ai + 81)*x^12 + (64*ai + 64)*x^10 + (125*ai + 125)*x^8 + (32*ai + 32)*x^6 + (81*ai + 81)*x^4 + (170*ai + 170)*x^2 + 58*ai + 58\n",
      "\n",
      "G_2 =  x^26 + 12*x^24 + 2*x^22 + 66*x^20 + 128*x^18 + 44*x^16 + 171*x^14 + 44*x^12 + 128*x^10 + 66*x^8 + 2*x^6 + 12*x^4 + x^2\n"
     ]
    }
   ],
   "source": [
    "print(\"F_1 = \",three_theta[0].numerator())\n",
    "print(\"\")\n",
    "print(\"F_2 = \",three_theta[0].denominator())\n",
    "print(\"\")\n",
    "print(\"G_1 = \",three_theta[1].numerator())\n",
    "print(\"\")\n",
    "print(\"G_2 = \",three_theta[1].denominator())"
   ]
  },
  {
   "cell_type": "markdown",
   "metadata": {
    "collapsed": false
   },
   "source": [
    "**Step 1:** For $P(x)$, we divide $F_1(X)$ by the leading coefficient $169ai$:"
   ]
  },
  {
   "cell_type": "code",
   "execution_count": 12,
   "metadata": {
    "collapsed": false
   },
   "outputs": [
    {
     "name": "stdout",
     "output_type": "stream",
     "text": [
      "P(x) =  x^18 + 122*x^16 + 136*x^14 + 65*x^12 + 29*x^10 + 150*x^8 + 114*x^6 + 43*x^4 + 57*x^2 + 178\n"
     ]
    }
   ],
   "source": [
    "print(\"P(x) = \",three_theta[0].numerator()/(169*ai))"
   ]
  },
  {
   "cell_type": "markdown",
   "metadata": {
    "collapsed": false
   },
   "source": [
    "For $Q(x)$, we divide $F_2(x)$ by the square of the monic version of the 3-division polynomial of $E_{1728}$:"
   ]
  },
  {
   "cell_type": "code",
   "execution_count": 18,
   "metadata": {
    "collapsed": false
   },
   "outputs": [
    {
     "name": "stdout",
     "output_type": "stream",
     "text": [
      "3*x^4 + 173*x^2 + 178\n",
      "Q(x) =  x^9 + 12*x^7 + 30*x^5 + 143*x^3 + 9*x\n"
     ]
    }
   ],
   "source": [
    "E1728_3Div = E1728.division_polynomial(3)\n",
    "print(E1728_3Div)\n",
    "E1728_3DivRed = E1728_3Div/3\n",
    "print(\"Q(x) = \",three_theta[0].denominator()/(E1728_3DivRed^2))"
   ]
  },
  {
   "cell_type": "markdown",
   "metadata": {
    "collapsed": false
   },
   "source": [
    "**Step 2:** We provide the formulas for the multiplication-by-3 map on $E_{1728}$:"
   ]
  },
  {
   "cell_type": "code",
   "execution_count": 20,
   "metadata": {
    "collapsed": false
   },
   "outputs": [
    {
     "name": "stdout",
     "output_type": "stream",
     "text": [
      "X_1(x) =  (20*x^9 + 61*x^7 + 63*x^5 + 175*x^3 + x)/(x^8 + 175*x^6 + 63*x^4 + 61*x^2 + 20)\n",
      "Y_2(x) =  (126*x^12 + 92*x^10 + 153*x^8 + 136*x^6 + 139*x^4 + 63*x^2 + 159)/(x^12 + 173*x^10 + 11*x^8 + 175*x^6 + 56*x^4 + 59*x^2 + 53)\n"
     ]
    }
   ],
   "source": [
    "Endo3 = EndoAdd(EndoDouble(Endo1,W1728),Endo1,W1728)\n",
    "print(\"X_1(x) = \",Endo3[0])\n",
    "print(\"Y_2(x) = \",Endo3[1])"
   ]
  },
  {
   "cell_type": "markdown",
   "metadata": {
    "collapsed": false
   },
   "source": [
    "The remainder of the algorithm divides $[3](1 + \\theta)$ by $[3]$. We have a duplicate of our ``DivideBy3\" function which will print out the necessary functions to demonstrate how this works. The reader is invited to use the standard ``DivideBy3\" function, which omits these print statements."
   ]
  },
  {
   "cell_type": "code",
   "execution_count": 21,
   "metadata": {
    "collapsed": false
   },
   "outputs": [
    {
     "data": {
      "text/plain": [
       "True"
      ]
     },
     "execution_count": 21,
     "metadata": {
     },
     "output_type": "execute_result"
    }
   ],
   "source": [
    "output = DivideBy3(three_theta,W1728)\n",
    "theta == output"
   ]
  },
  {
   "cell_type": "code",
   "execution_count": 26,
   "metadata": {
    "collapsed": false
   },
   "outputs": [
    {
     "name": "stdout",
     "output_type": "stream",
     "text": [
      "STEP 1:\n",
      "c_F =  169*ai\n",
      "P(x) =  x^18 + 122*x^16 + 136*x^14 + 65*x^12 + 29*x^10 + 150*x^8 + 114*x^6 + 43*x^4 + 57*x^2 + 178\n",
      "Q(x) =  x^9 + 12*x^7 + 30*x^5 + 143*x^3 + 9*x\n",
      "STEP 2:\n",
      "Psi_(E_1728,3)(x) =  [(20*x^9 + 61*x^7 + 63*x^5 + 175*x^3 + x)/(x^8 + 175*x^6 + 63*x^4 + 61*x^2 + 20), (126*x^12 + 92*x^10 + 153*x^8 + 136*x^6 + 139*x^4 + 63*x^2 + 159)/(x^12 + 173*x^10 + 11*x^8 + 175*x^6 + 56*x^4 + 59*x^2 + 53)]\n"
     ]
    },
    {
     "name": "stdout",
     "output_type": "stream",
     "text": [
      "STEP 3:\n",
      "p(x) =  x^18 + 170*x^16 + 36*x^14 + 95*x^12 + 126*x^10 + 53*x^8 + 84*x^6 + 143*x^4 + 9*x^2 + 178\n"
     ]
    },
    {
     "name": "stdout",
     "output_type": "stream",
     "text": [
      "STEP 4:\n",
      "q(x) =  x^9\n",
      "STEP 5:\n",
      "p_0(x) =  x^2 + 178\n",
      "q_0(x) =  x\n",
      "STEP 6:\n",
      "f(x) =  (89*ai*x^2 + 90*ai)/x\n",
      "g(x) =  ((134*ai + 134)*x^2 + 134*ai + 134)/x^2\n",
      "STEP 7:\n"
     ]
    },
    {
     "data": {
      "text/plain": [
       "[(89*ai*x^2 + 90*ai)/x, ((134*ai + 134)*x^2 + 134*ai + 134)/x^2]"
      ]
     },
     "execution_count": 26,
     "metadata": {
     },
     "output_type": "execute_result"
    }
   ],
   "source": [
    "DivideBy3_comments(three_theta,W1728)"
   ]
  },
  {
   "cell_type": "code",
   "execution_count": 0,
   "metadata": {
    "collapsed": false
   },
   "outputs": [
   ],
   "source": [
   ]
  }
 ],
 "metadata": {
  "kernelspec": {
   "display_name": "SageMath 9.2",
   "language": "sagemath",
   "metadata": {
    "cocalc": {
     "description": "Open-source mathematical software system",
     "priority": 1,
     "url": "https://www.sagemath.org/"
    }
   },
   "name": "sage-9.2",
   "resource_dir": "/ext/jupyter/kernels/sage-9.2"
  },
  "language_info": {
   "codemirror_mode": {
    "name": "ipython",
    "version": 3
   },
   "file_extension": ".py",
   "mimetype": "text/x-python",
   "name": "python",
   "nbconvert_exporter": "python",
   "pygments_lexer": "ipython3",
   "version": "3.8.10"
  }
 },
 "nbformat": 4,
 "nbformat_minor": 4
}